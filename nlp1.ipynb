{
 "cells": [
  {
   "cell_type": "code",
   "execution_count": 1,
   "id": "e05c8469-9dfe-4ebc-a134-55e5caced2a5",
   "metadata": {},
   "outputs": [],
   "source": [
    "import pandas as pd \n",
    "import numpy as np\n",
    "import seaborn as sns\n",
    "import matplotlib.pyplot as plt\n",
    "from sklearn.model_selection import train_test_split"
   ]
  },
  {
   "cell_type": "code",
   "execution_count": 3,
   "id": "220f3e4d-87da-4e02-96d6-5ec2927667c1",
   "metadata": {},
   "outputs": [
    {
     "data": {
      "text/plain": [
       "['this',\n",
       " 'is',\n",
       " 'a',\n",
       " 'story',\n",
       " 'about',\n",
       " 'dogs',\n",
       " 'our',\n",
       " 'canine',\n",
       " 'pets',\n",
       " 'dogs',\n",
       " 'are',\n",
       " 'furry',\n",
       " 'animals']"
      ]
     },
     "execution_count": 3,
     "metadata": {},
     "output_type": "execute_result"
    }
   ],
   "source": [
    "with open('One.txt') as mytext:\n",
    "    a = mytext.read().lower().split()\n",
    "    uniq_words_1 = set(a)\n",
    "a"
   ]
  },
  {
   "cell_type": "code",
   "execution_count": 4,
   "id": "a7e2d14f-ab0d-4226-9ac6-81e1a67625b6",
   "metadata": {},
   "outputs": [
    {
     "name": "stdout",
     "output_type": "stream",
     "text": [
      "['this', 'is', 'a', 'story', 'about', 'dogs', 'our', 'canine', 'pets', 'dogs', 'are', 'furry', 'animals']\n"
     ]
    }
   ],
   "source": [
    "print(a)"
   ]
  },
  {
   "cell_type": "code",
   "execution_count": 11,
   "id": "5246f560-6438-4a00-8027-075c8c872754",
   "metadata": {},
   "outputs": [
    {
     "data": {
      "text/plain": [
       "{'a',\n",
       " 'about',\n",
       " 'animals',\n",
       " 'are',\n",
       " 'canine',\n",
       " 'dogs',\n",
       " 'furry',\n",
       " 'is',\n",
       " 'our',\n",
       " 'pets',\n",
       " 'story',\n",
       " 'this'}"
      ]
     },
     "execution_count": 11,
     "metadata": {},
     "output_type": "execute_result"
    }
   ],
   "source": [
    "uniq_words_1"
   ]
  },
  {
   "cell_type": "code",
   "execution_count": 5,
   "id": "22cf115d-6185-4a38-ac52-e4480a5e0df7",
   "metadata": {},
   "outputs": [
    {
     "data": {
      "text/plain": [
       "{'a',\n",
       " 'about',\n",
       " 'catching',\n",
       " 'fun',\n",
       " 'is',\n",
       " 'popular',\n",
       " 'sport',\n",
       " 'story',\n",
       " 'surfing',\n",
       " 'this',\n",
       " 'water',\n",
       " 'waves'}"
      ]
     },
     "execution_count": 5,
     "metadata": {},
     "output_type": "execute_result"
    }
   ],
   "source": [
    "with open('Two.txt') as mytext:\n",
    "    b = mytext.read().lower().split()\n",
    "    uniq_words_2 = set(b)\n",
    "uniq_words_2"
   ]
  },
  {
   "cell_type": "code",
   "execution_count": 6,
   "id": "78f039e4-f5c1-4e22-a129-11d3eb2ee584",
   "metadata": {},
   "outputs": [
    {
     "data": {
      "text/plain": [
       "{'a',\n",
       " 'about',\n",
       " 'animals',\n",
       " 'are',\n",
       " 'canine',\n",
       " 'catching',\n",
       " 'dogs',\n",
       " 'fun',\n",
       " 'furry',\n",
       " 'is',\n",
       " 'our',\n",
       " 'pets',\n",
       " 'popular',\n",
       " 'sport',\n",
       " 'story',\n",
       " 'surfing',\n",
       " 'this',\n",
       " 'water',\n",
       " 'waves'}"
      ]
     },
     "execution_count": 6,
     "metadata": {},
     "output_type": "execute_result"
    }
   ],
   "source": [
    "all_uniq_words = set()\n",
    "all_uniq_words.update(uniq_words_1)\n",
    "all_uniq_words.update(uniq_words_2)\n",
    "all_uniq_words"
   ]
  },
  {
   "cell_type": "code",
   "execution_count": 7,
   "id": "58d32506-0d0a-4c02-be56-caaf1576494c",
   "metadata": {},
   "outputs": [
    {
     "data": {
      "text/plain": [
       "{'waves': 0,\n",
       " 'water': 1,\n",
       " 'catching': 2,\n",
       " 'story': 3,\n",
       " 'our': 4,\n",
       " 'animals': 5,\n",
       " 'popular': 6,\n",
       " 'furry': 7,\n",
       " 'about': 8,\n",
       " 'is': 9,\n",
       " 'surfing': 10,\n",
       " 'pets': 11,\n",
       " 'are': 12,\n",
       " 'a': 13,\n",
       " 'sport': 14,\n",
       " 'canine': 15,\n",
       " 'this': 16,\n",
       " 'fun': 17,\n",
       " 'dogs': 18}"
      ]
     },
     "execution_count": 7,
     "metadata": {},
     "output_type": "execute_result"
    }
   ],
   "source": [
    "vocab_dict =dict()\n",
    "i =0\n",
    "for word in all_uniq_words:\n",
    "    vocab_dict[word]=i\n",
    "    i = i + 1\n",
    "vocab_dict"
   ]
  },
  {
   "cell_type": "code",
   "execution_count": 9,
   "id": "72a8c8c6-6631-41cc-becc-8a500ae25596",
   "metadata": {},
   "outputs": [
    {
     "data": {
      "text/plain": [
       "[0, 0, 0, 0, 0, 0, 0, 0, 0, 0, 0, 0, 0, 0, 0, 0, 0, 0, 0]"
      ]
     },
     "execution_count": 9,
     "metadata": {},
     "output_type": "execute_result"
    }
   ],
   "source": [
    "one_freq = [0] * len(vocab_dict)\n",
    "two_freq = [0] * len(vocab_dict)\n",
    "all_word = [''] * len(vocab_dict)"
   ]
  },
  {
   "cell_type": "code",
   "execution_count": 11,
   "id": "1c38e00f-32ba-4063-98e5-2be5629a4783",
   "metadata": {},
   "outputs": [
    {
     "data": {
      "text/plain": [
       "[0, 0, 0, 1, 1, 1, 0, 1, 1, 1, 0, 1, 1, 1, 0, 1, 1, 0, 2]"
      ]
     },
     "execution_count": 11,
     "metadata": {},
     "output_type": "execute_result"
    }
   ],
   "source": [
    "with open('One.txt') as mytext:\n",
    "    a = mytext.read().lower().split()\n",
    "for word in a:\n",
    "    word_ind = vocab_dict[word]\n",
    "    one_freq[word_ind] +=1\n",
    "one_freq"
   ]
  },
  {
   "cell_type": "code",
   "execution_count": 12,
   "id": "145c581b-c77f-4edd-bb27-0b4449b37e66",
   "metadata": {},
   "outputs": [
    {
     "data": {
      "text/plain": [
       "[1, 1, 1, 1, 0, 0, 1, 0, 1, 3, 2, 0, 0, 1, 1, 0, 1, 1, 0]"
      ]
     },
     "execution_count": 12,
     "metadata": {},
     "output_type": "execute_result"
    }
   ],
   "source": [
    "with open('Two.txt') as mytext:\n",
    "    b = mytext.read().lower().split()\n",
    "for word in b:\n",
    "    word_ind = vocab_dict[word]\n",
    "    two_freq[word_ind] +=1\n",
    "two_freq"
   ]
  },
  {
   "cell_type": "code",
   "execution_count": 13,
   "id": "ecae1742-2be9-4f64-88d2-c6ae05ee4158",
   "metadata": {},
   "outputs": [
    {
     "data": {
      "text/plain": [
       "['waves',\n",
       " 'water',\n",
       " 'catching',\n",
       " 'story',\n",
       " 'our',\n",
       " 'animals',\n",
       " 'popular',\n",
       " 'furry',\n",
       " 'about',\n",
       " 'is',\n",
       " 'surfing',\n",
       " 'pets',\n",
       " 'are',\n",
       " 'a',\n",
       " 'sport',\n",
       " 'canine',\n",
       " 'this',\n",
       " 'fun',\n",
       " 'dogs']"
      ]
     },
     "execution_count": 13,
     "metadata": {},
     "output_type": "execute_result"
    }
   ],
   "source": [
    "for word in vocab_dict:\n",
    "    word_ind = vocab_dict[word]\n",
    "    all_word[ word_ind] = word\n",
    "all_word  "
   ]
  },
  {
   "cell_type": "code",
   "execution_count": 14,
   "id": "286730f6-997c-4208-b407-41441351c811",
   "metadata": {},
   "outputs": [
    {
     "data": {
      "text/html": [
       "<div>\n",
       "<style scoped>\n",
       "    .dataframe tbody tr th:only-of-type {\n",
       "        vertical-align: middle;\n",
       "    }\n",
       "\n",
       "    .dataframe tbody tr th {\n",
       "        vertical-align: top;\n",
       "    }\n",
       "\n",
       "    .dataframe thead th {\n",
       "        text-align: right;\n",
       "    }\n",
       "</style>\n",
       "<table border=\"1\" class=\"dataframe\">\n",
       "  <thead>\n",
       "    <tr style=\"text-align: right;\">\n",
       "      <th></th>\n",
       "      <th>waves</th>\n",
       "      <th>water</th>\n",
       "      <th>catching</th>\n",
       "      <th>story</th>\n",
       "      <th>our</th>\n",
       "      <th>animals</th>\n",
       "      <th>popular</th>\n",
       "      <th>furry</th>\n",
       "      <th>about</th>\n",
       "      <th>is</th>\n",
       "      <th>surfing</th>\n",
       "      <th>pets</th>\n",
       "      <th>are</th>\n",
       "      <th>a</th>\n",
       "      <th>sport</th>\n",
       "      <th>canine</th>\n",
       "      <th>this</th>\n",
       "      <th>fun</th>\n",
       "      <th>dogs</th>\n",
       "    </tr>\n",
       "  </thead>\n",
       "  <tbody>\n",
       "    <tr>\n",
       "      <th>0</th>\n",
       "      <td>0</td>\n",
       "      <td>0</td>\n",
       "      <td>0</td>\n",
       "      <td>1</td>\n",
       "      <td>1</td>\n",
       "      <td>1</td>\n",
       "      <td>0</td>\n",
       "      <td>1</td>\n",
       "      <td>1</td>\n",
       "      <td>1</td>\n",
       "      <td>0</td>\n",
       "      <td>1</td>\n",
       "      <td>1</td>\n",
       "      <td>1</td>\n",
       "      <td>0</td>\n",
       "      <td>1</td>\n",
       "      <td>1</td>\n",
       "      <td>0</td>\n",
       "      <td>2</td>\n",
       "    </tr>\n",
       "    <tr>\n",
       "      <th>1</th>\n",
       "      <td>1</td>\n",
       "      <td>1</td>\n",
       "      <td>1</td>\n",
       "      <td>1</td>\n",
       "      <td>0</td>\n",
       "      <td>0</td>\n",
       "      <td>1</td>\n",
       "      <td>0</td>\n",
       "      <td>1</td>\n",
       "      <td>3</td>\n",
       "      <td>2</td>\n",
       "      <td>0</td>\n",
       "      <td>0</td>\n",
       "      <td>1</td>\n",
       "      <td>1</td>\n",
       "      <td>0</td>\n",
       "      <td>1</td>\n",
       "      <td>1</td>\n",
       "      <td>0</td>\n",
       "    </tr>\n",
       "  </tbody>\n",
       "</table>\n",
       "</div>"
      ],
      "text/plain": [
       "   waves  water  catching  story  our  animals  popular  furry  about  is  \\\n",
       "0      0      0         0      1    1        1        0      1      1   1   \n",
       "1      1      1         1      1    0        0        1      0      1   3   \n",
       "\n",
       "   surfing  pets  are  a  sport  canine  this  fun  dogs  \n",
       "0        0     1    1  1      0       1     1    0     2  \n",
       "1        2     0    0  1      1       0     1    1     0  "
      ]
     },
     "execution_count": 14,
     "metadata": {},
     "output_type": "execute_result"
    }
   ],
   "source": [
    "import pandas as pd \n",
    "df =pd.DataFrame(data = [one_freq,two_freq],columns = all_word )\n",
    "df.head()"
   ]
  },
  {
   "cell_type": "code",
   "execution_count": 20,
   "id": "535ccb75-3521-4abb-8dfa-6c64d5d37010",
   "metadata": {},
   "outputs": [
    {
     "data": {
      "text/plain": [
       "matrix([[0, 1, 1],\n",
       "        [1, 1, 0],\n",
       "        [0, 1, 0]], dtype=int64)"
      ]
     },
     "execution_count": 20,
     "metadata": {},
     "output_type": "execute_result"
    }
   ],
   "source": [
    "text = ['This is a random line','Please help me line.','Can you move to another line?']\n",
    "from sklearn.feature_extraction.text import CountVectorizer,TfidfTransformer\n",
    "cv = CountVectorizer(stop_words= 'english')\n",
    "sparse_matrix = cv.fit_transform(text)\n",
    "sparse_matrix.todense()"
   ]
  },
  {
   "cell_type": "code",
   "execution_count": 19,
   "id": "8e6c600e-d879-478c-bfa3-920131395bbf",
   "metadata": {},
   "outputs": [
    {
     "data": {
      "text/plain": [
       "{'random': 2, 'line': 1, 'help': 0}"
      ]
     },
     "execution_count": 19,
     "metadata": {},
     "output_type": "execute_result"
    }
   ],
   "source": [
    "cv.vocabulary_"
   ]
  },
  {
   "cell_type": "code",
   "execution_count": 22,
   "id": "97a402be-c603-4fa3-8b2f-3a1810da88f2",
   "metadata": {},
   "outputs": [
    {
     "data": {
      "text/plain": [
       "<3x3 sparse matrix of type '<class 'numpy.float64'>'\n",
       "\twith 5 stored elements in Compressed Sparse Row format>"
      ]
     },
     "execution_count": 22,
     "metadata": {},
     "output_type": "execute_result"
    }
   ],
   "source": [
    "tfidf= TfidfTransformer()\n",
    "tfidf.fit_transform(sparse_matrix)"
   ]
  },
  {
   "cell_type": "code",
   "execution_count": 23,
   "id": "39ea0d01-d402-4126-9f7c-a957fb8eac3d",
   "metadata": {},
   "outputs": [],
   "source": [
    "from sklearn.feature_extraction.text import TfidfVectorizer\n",
    "tfv = TfidfVectorizer()\n",
    "tfv_results = tfv.fit_transform(text)"
   ]
  },
  {
   "cell_type": "code",
   "execution_count": 24,
   "id": "6dd4a9b2-f18a-4d8f-8464-56f41bd6c566",
   "metadata": {},
   "outputs": [
    {
     "data": {
      "text/plain": [
       "<3x12 sparse matrix of type '<class 'numpy.float64'>'\n",
       "\twith 14 stored elements in Compressed Sparse Row format>"
      ]
     },
     "execution_count": 24,
     "metadata": {},
     "output_type": "execute_result"
    }
   ],
   "source": [
    "tfv_results"
   ]
  },
  {
   "cell_type": "code",
   "execution_count": null,
   "id": "e60f4ada-7a28-4861-b45c-6d552f982d29",
   "metadata": {},
   "outputs": [],
   "source": []
  }
 ],
 "metadata": {
  "kernelspec": {
   "display_name": "Python 3 (ipykernel)",
   "language": "python",
   "name": "python3"
  },
  "language_info": {
   "codemirror_mode": {
    "name": "ipython",
    "version": 3
   },
   "file_extension": ".py",
   "mimetype": "text/x-python",
   "name": "python",
   "nbconvert_exporter": "python",
   "pygments_lexer": "ipython3",
   "version": "3.9.7"
  }
 },
 "nbformat": 4,
 "nbformat_minor": 5
}
